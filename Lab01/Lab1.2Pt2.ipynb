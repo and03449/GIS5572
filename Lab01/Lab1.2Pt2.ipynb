{
 "cells": [
  {
   "cell_type": "markdown",
   "metadata": {},
   "source": [
    "# Lab 1.2: Pipeline from the Database to ArcGIS Online"
   ]
  },
  {
   "cell_type": "markdown",
   "metadata": {},
   "source": [
    "## Importing Packages"
   ]
  },
  {
   "cell_type": "code",
   "execution_count": 1,
   "metadata": {},
   "outputs": [],
   "source": [
    "import arcpy\n",
    "import psycopg2\n",
    "from psycopg2 import sql"
   ]
  },
  {
   "cell_type": "markdown",
   "metadata": {},
   "source": [
    "## Connecting to the Server"
   ]
  },
  {
   "cell_type": "code",
   "execution_count": 2,
   "metadata": {},
   "outputs": [],
   "source": [
    "connection = psycopg2.connect(host = '34.132.44.118',\n",
    "                              database = 'lab1-2',\n",
    "                              user = 'postgres',\n",
    "                              password = 'password')"
   ]
  },
  {
   "cell_type": "code",
   "execution_count": 3,
   "metadata": {},
   "outputs": [
    {
     "data": {
      "text/plain": [
       "0"
      ]
     },
     "execution_count": 3,
     "metadata": {},
     "output_type": "execute_result"
    }
   ],
   "source": [
    "# testing server connection - 0 means it is connected\n",
    "connection.closed"
   ]
  },
  {
   "cell_type": "markdown",
   "metadata": {},
   "source": [
    "## Connecting to the Cursor"
   ]
  },
  {
   "cell_type": "code",
   "execution_count": 4,
   "metadata": {},
   "outputs": [],
   "source": [
    "cursor = connection.cursor()"
   ]
  },
  {
   "cell_type": "markdown",
   "metadata": {},
   "source": [
    "## Creating Points"
   ]
  },
  {
   "cell_type": "code",
   "execution_count": 5,
   "metadata": {},
   "outputs": [],
   "source": [
    "NW_Harriet = arcpy.Point(-93.31593708, 44.92888419)\n",
    "NE_Harriet = arcpy.Point(-93.29519335, 44.92877064)\n",
    "SE_Harriet = arcpy.Point(-93.29433794, 44.91480186)\n",
    "SW_Harriet = arcpy.Point(-93.31689941, 44.91616482)"
   ]
  },
  {
   "cell_type": "code",
   "execution_count": 6,
   "metadata": {},
   "outputs": [
    {
     "data": {
      "text/plain": [
       "[<Point (-93.31593708, 44.92888419, #, #)>, <Point (-93.29519335, 44.92877064, #, #)>, <Point (-93.29433794, 44.91480186, #, #)>, <Point (-93.31689941, 44.91616482, #, #)>]"
      ]
     },
     "execution_count": 6,
     "metadata": {},
     "output_type": "execute_result"
    }
   ],
   "source": [
    "l = [NW_Harriet,NE_Harriet,SE_Harriet,SW_Harriet]\n",
    "l"
   ]
  },
  {
   "cell_type": "code",
   "execution_count": 7,
   "metadata": {},
   "outputs": [],
   "source": [
    "a = arcpy.Array(l)"
   ]
  },
  {
   "cell_type": "code",
   "execution_count": 8,
   "metadata": {},
   "outputs": [],
   "source": [
    "poly = arcpy.Polygon(a)"
   ]
  },
  {
   "cell_type": "markdown",
   "metadata": {},
   "source": [
    "## Creating the Table & Importing Data"
   ]
  },
  {
   "cell_type": "code",
   "execution_count": 9,
   "metadata": {},
   "outputs": [],
   "source": [
    "cursor.execute(\"DROP TABLE IF EXISTS harriet_poly;\")"
   ]
  },
  {
   "cell_type": "code",
   "execution_count": 10,
   "metadata": {
    "scrolled": false
   },
   "outputs": [],
   "source": [
    "new_table = sql.SQL(\"CREATE TABLE harriet_poly (polygon_id serial, polygon geometry)\")\n",
    "cursor.execute(new_table)"
   ]
  },
  {
   "cell_type": "code",
   "execution_count": 16,
   "metadata": {},
   "outputs": [],
   "source": [
    "cursor.execute(\"INSERT INTO harriet_poly(polygon) VALUES (ST_GeomFromText('{}'))\".format(poly.WKT))"
   ]
  },
  {
   "cell_type": "code",
   "execution_count": 17,
   "metadata": {},
   "outputs": [],
   "source": [
    "cursor.execute(\"SELECT ST_SetSRID(polygon, 4326) FROM harriet_poly;\")"
   ]
  },
  {
   "cell_type": "code",
   "execution_count": 18,
   "metadata": {},
   "outputs": [],
   "source": [
    "# Committing and closing the cursor\n",
    "\n",
    "connection.commit()\n",
    "cursor.close()\n",
    "connection.close()"
   ]
  },
  {
   "cell_type": "markdown",
   "metadata": {},
   "source": [
    "## Converting the WKT to a GeoJSON"
   ]
  },
  {
   "cell_type": "code",
   "execution_count": 111,
   "metadata": {},
   "outputs": [],
   "source": [
    "# I have commented out this tep because I am doing this in my .py instead\n",
    "#cursor = connection.cursor()\n",
    "#cursor.execute(\"SELECT ST_AsGeoJSON(harriet_poly.*) FROM harriet_poly;\")\n",
    "#connection.commit()"
   ]
  },
  {
   "cell_type": "markdown",
   "metadata": {},
   "source": [
    "## Create the Flask App"
   ]
  },
  {
   "cell_type": "code",
   "execution_count": null,
   "metadata": {},
   "outputs": [],
   "source": [
    "'''\n",
    "# DO NOT RUN IN ARCPRO\n",
    "# THIS IS NOT UP-TO-DATE WITH .PY FILE\n",
    "\n",
    "import string\n",
    "from flask import Flask, jsonify, request\n",
    "import psycopg2\n",
    "\n",
    "app = Flask(__name__)\n",
    "\n",
    "connection = psycopg2.connect(host = '34.132.44.118',\n",
    "                              database = 'lab1-2',\n",
    "                              user = 'postgres',\n",
    "                              password = 'password')\n",
    "\n",
    "@app.route('/asgeojson', methods=['GET', 'POST'])\n",
    "\n",
    "def get_geojson():\n",
    "    cursor = connection.cursor()\n",
    "    cursor.execute(\"SELECT ST_AsGeoJSON(harriet_poly.*) AS poly_geojson FROM harriet_poly;\")\n",
    "    result = cursor.fetchone()\n",
    "    return result\n",
    "    \n",
    "    if result is None:\n",
    "        return jsonify({'error': 'Polygon not found'}), 404\n",
    "    else:\n",
    "        return jsonify({'geojson': result[0]})\n",
    "if __name__ == '__main__':\n",
    "    app.run(debug=True, host='0.0.0.0', port=5000)\n",
    "'''"
   ]
  },
  {
   "cell_type": "markdown",
   "metadata": {},
   "source": [
    "## Exporting the GeoJSON from the Website"
   ]
  },
  {
   "cell_type": "code",
   "execution_count": 34,
   "metadata": {},
   "outputs": [
    {
     "ename": "ConnectionError",
     "evalue": "HTTPConnectionPool(host='35.184.33.216', port=5000): Max retries exceeded with url: /asgeojson (Caused by NewConnectionError('<urllib3.connection.HTTPConnection object at 0x0000025F78FF37C0>: Failed to establish a new connection: [WinError 10061] No connection could be made because the target machine actively refused it'))",
     "output_type": "error",
     "traceback": [
      "\u001b[0;31m---------------------------------------------------------------------------\u001b[0m\n\u001b[0;31mConnectionError\u001b[0m                           Traceback (most recent call last)",
      "In  \u001b[0;34m[34]\u001b[0m:\nLine \u001b[0;34m4\u001b[0m:     rqst_objct = requests.get(geojson_url)\n",
      "File \u001b[0;34mC:\\Users\\tande\\AppData\\Local\\ESRI\\conda\\envs\\gis5572\\lib\\site-packages\\requests\\api.py\u001b[0m, in \u001b[0;32mget\u001b[0m:\nLine \u001b[0;34m75\u001b[0m:    \u001b[34mreturn\u001b[39;49;00m request(\u001b[33m'\u001b[39;49;00m\u001b[33mget\u001b[39;49;00m\u001b[33m'\u001b[39;49;00m, url, params=params, **kwargs)\n",
      "File \u001b[0;34mC:\\Users\\tande\\AppData\\Local\\ESRI\\conda\\envs\\gis5572\\lib\\site-packages\\requests\\api.py\u001b[0m, in \u001b[0;32mrequest\u001b[0m:\nLine \u001b[0;34m61\u001b[0m:    \u001b[34mreturn\u001b[39;49;00m session.request(method=method, url=url, **kwargs)\n",
      "File \u001b[0;34mC:\\Users\\tande\\AppData\\Local\\ESRI\\conda\\envs\\gis5572\\lib\\site-packages\\requests\\sessions.py\u001b[0m, in \u001b[0;32mrequest\u001b[0m:\nLine \u001b[0;34m529\u001b[0m:   resp = \u001b[36mself\u001b[39;49;00m.send(prep, **send_kwargs)\n",
      "File \u001b[0;34mC:\\Users\\tande\\AppData\\Local\\ESRI\\conda\\envs\\gis5572\\lib\\site-packages\\requests\\sessions.py\u001b[0m, in \u001b[0;32msend\u001b[0m:\nLine \u001b[0;34m645\u001b[0m:   r = adapter.send(request, **kwargs)\n",
      "File \u001b[0;34mC:\\Users\\tande\\AppData\\Local\\ESRI\\conda\\envs\\gis5572\\lib\\site-packages\\requests\\adapters.py\u001b[0m, in \u001b[0;32msend\u001b[0m:\nLine \u001b[0;34m519\u001b[0m:   \u001b[34mraise\u001b[39;49;00m \u001b[36mConnectionError\u001b[39;49;00m(e, request=request)\n",
      "\u001b[0;31mConnectionError\u001b[0m: HTTPConnectionPool(host='35.184.33.216', port=5000): Max retries exceeded with url: /asgeojson (Caused by NewConnectionError('<urllib3.connection.HTTPConnection object at 0x0000025F78FF37C0>: Failed to establish a new connection: [WinError 10061] No connection could be made because the target machine actively refused it'))\n\u001b[0;31m---------------------------------------------------------------------------\u001b[0m"
     ]
    }
   ],
   "source": [
    "# This step has been fixed since my video - we resolved it during class\n",
    "\n",
    "import requests\n",
    "geojson_url = r'http://35.184.33.216:5000/asgeojson'\n",
    "cwd = r'C:\\Users\\tande\\Documents\\GitHub\\GIS5572\\Lab01'\n",
    "rqst_objct = requests.get(geojson_url)\n",
    "\n",
    "\n",
    "with open (cwd + '\\harriet_poly.geojson', 'w') as file:\n",
    "    file.write(str(req_text.json()))\n",
    "    print('GeoJSON saved!')"
   ]
  },
  {
   "cell_type": "markdown",
   "metadata": {},
   "source": [
    "## Incomplete Steps"
   ]
  },
  {
   "cell_type": "markdown",
   "metadata": {},
   "source": [
    "## Fixing the Extracted GeoJSON"
   ]
  },
  {
   "cell_type": "code",
   "execution_count": null,
   "metadata": {},
   "outputs": [],
   "source": [
    "# This step has been fixed since my video - we resolved it during class\n",
    "\n",
    "# The GeoJSON is exporting as <bound method Response.json of <Response [200]>> so I need to find a way to extract the true GeoJSON"
   ]
  },
  {
   "cell_type": "code",
   "execution_count": null,
   "metadata": {},
   "outputs": [],
   "source": [
    "# Try 1\n",
    "\n",
    "pathtogeojson = r'http://35.184.33.216:5000/asgeojson'\n",
    "post_req_obj = requests.post(pathtogeojson)"
   ]
  },
  {
   "cell_type": "code",
   "execution_count": 33,
   "metadata": {},
   "outputs": [
    {
     "ename": "ConnectionError",
     "evalue": "HTTPConnectionPool(host='35.184.33.216', port=5000): Max retries exceeded with url: /asgeojson (Caused by NewConnectionError('<urllib3.connection.HTTPConnection object at 0x0000025F78DB8490>: Failed to establish a new connection: [WinError 10061] No connection could be made because the target machine actively refused it'))",
     "output_type": "error",
     "traceback": [
      "\u001b[0;31m---------------------------------------------------------------------------\u001b[0m\n\u001b[0;31mConnectionError\u001b[0m                           Traceback (most recent call last)",
      "In  \u001b[0;34m[33]\u001b[0m:\nLine \u001b[0;34m12\u001b[0m:    session.get(pathtogeojson)\n",
      "File \u001b[0;34mC:\\Users\\tande\\AppData\\Local\\ESRI\\conda\\envs\\gis5572\\lib\\site-packages\\requests\\sessions.py\u001b[0m, in \u001b[0;32mget\u001b[0m:\nLine \u001b[0;34m542\u001b[0m:   \u001b[34mreturn\u001b[39;49;00m \u001b[36mself\u001b[39;49;00m.request(\u001b[33m'\u001b[39;49;00m\u001b[33mGET\u001b[39;49;00m\u001b[33m'\u001b[39;49;00m, url, **kwargs)\n",
      "File \u001b[0;34mC:\\Users\\tande\\AppData\\Local\\ESRI\\conda\\envs\\gis5572\\lib\\site-packages\\requests\\sessions.py\u001b[0m, in \u001b[0;32mrequest\u001b[0m:\nLine \u001b[0;34m529\u001b[0m:   resp = \u001b[36mself\u001b[39;49;00m.send(prep, **send_kwargs)\n",
      "File \u001b[0;34mC:\\Users\\tande\\AppData\\Local\\ESRI\\conda\\envs\\gis5572\\lib\\site-packages\\requests\\sessions.py\u001b[0m, in \u001b[0;32msend\u001b[0m:\nLine \u001b[0;34m645\u001b[0m:   r = adapter.send(request, **kwargs)\n",
      "File \u001b[0;34mC:\\Users\\tande\\AppData\\Local\\ESRI\\conda\\envs\\gis5572\\lib\\site-packages\\requests\\adapters.py\u001b[0m, in \u001b[0;32msend\u001b[0m:\nLine \u001b[0;34m519\u001b[0m:   \u001b[34mraise\u001b[39;49;00m \u001b[36mConnectionError\u001b[39;49;00m(e, request=request)\n",
      "\u001b[0;31mConnectionError\u001b[0m: HTTPConnectionPool(host='35.184.33.216', port=5000): Max retries exceeded with url: /asgeojson (Caused by NewConnectionError('<urllib3.connection.HTTPConnection object at 0x0000025F78DB8490>: Failed to establish a new connection: [WinError 10061] No connection could be made because the target machine actively refused it'))\n\u001b[0;31m---------------------------------------------------------------------------\u001b[0m"
     ]
    }
   ],
   "source": [
    "# Try 2\n",
    "import requests\n",
    "from requests.adapters import HTTPAdapter\n",
    "from urllib3.util.retry import Retry\n",
    "\n",
    "\n",
    "session = requests.Session()\n",
    "retry = Retry(connect=3, backoff_factor=0.5)\n",
    "adapter = HTTPAdapter(max_retries=retry)\n",
    "session.mount('http://', adapter)\n",
    "session.mount('https://', adapter)\n",
    "\n",
    "session.get(pathtogeojson)\n",
    "\n",
    "# Ref https://stackoverflow.com/questions/23013220/max-retries-exceeded-with-url-in-requests"
   ]
  },
  {
   "cell_type": "markdown",
   "metadata": {},
   "source": [
    "## Convert the GeoJSON to an ESRI Compatible Format"
   ]
  },
  {
   "cell_type": "code",
   "execution_count": 1,
   "metadata": {},
   "outputs": [
    {
     "ename": "ExecuteError",
     "evalue": "Failed to execute. Parameters are not valid.\nERROR 000732: Input JSON or GeoJSON: Dataset harriet_poly.geojson does not exist or is not supported\nFailed to execute (JSONToFeatures).\n",
     "output_type": "error",
     "traceback": [
      "\u001b[0;31m---------------------------------------------------------------------------\u001b[0m\n\u001b[0;31mExecuteError\u001b[0m                              Traceback (most recent call last)",
      "In  \u001b[0;34m[1]\u001b[0m:\nLine \u001b[0;34m5\u001b[0m:     arcpy.conversion.JSONToFeatures(\u001b[33m'\u001b[39;49;00m\u001b[33mharriet_poly.geojson\u001b[39;49;00m\u001b[33m'\u001b[39;49;00m, \u001b[33m'\u001b[39;49;00m\u001b[33mharriet_poly\u001b[39;49;00m\u001b[33m'\u001b[39;49;00m)\n",
      "File \u001b[0;34mC:\\Program Files\\ArcGIS\\Pro\\Resources\\ArcPy\\arcpy\\conversion.py\u001b[0m, in \u001b[0;32mJSONToFeatures\u001b[0m:\nLine \u001b[0;34m1171\u001b[0m:  \u001b[34mraise\u001b[39;49;00m e\n",
      "File \u001b[0;34mC:\\Program Files\\ArcGIS\\Pro\\Resources\\ArcPy\\arcpy\\conversion.py\u001b[0m, in \u001b[0;32mJSONToFeatures\u001b[0m:\nLine \u001b[0;34m1168\u001b[0m:  retval = convertArcObjectToPythonObject(gp.JSONToFeatures_conversion(*gp_fixargs((in_json_file, out_features, geometry_type), \u001b[34mTrue\u001b[39;49;00m)))\n",
      "File \u001b[0;34mC:\\Program Files\\ArcGIS\\Pro\\Resources\\ArcPy\\arcpy\\geoprocessing\\_base.py\u001b[0m, in \u001b[0;32m<lambda>\u001b[0m:\nLine \u001b[0;34m512\u001b[0m:   \u001b[34mreturn\u001b[39;49;00m \u001b[34mlambda\u001b[39;49;00m *args: val(*gp_fixargs(args, \u001b[34mTrue\u001b[39;49;00m))\n",
      "\u001b[0;31mExecuteError\u001b[0m: Failed to execute. Parameters are not valid.\nERROR 000732: Input JSON or GeoJSON: Dataset harriet_poly.geojson does not exist or is not supported\nFailed to execute (JSONToFeatures).\n\n\u001b[0;31m---------------------------------------------------------------------------\u001b[0m"
     ]
    }
   ],
   "source": [
    "# This step has been fixed since my video - we resolved it during class\n",
    "\n",
    "# I never got to this step becasue I was unable to correctly export my GeoJSON\n",
    "\n",
    "arcpy.conversion.JSONToFeatures('harriet_poly.geojson', 'harriet_poly')"
   ]
  },
  {
   "cell_type": "markdown",
   "metadata": {},
   "source": [
    "## Importing the GeoJSON Into ArcGIS Online"
   ]
  },
  {
   "cell_type": "code",
   "execution_count": 36,
   "metadata": {},
   "outputs": [],
   "source": [
    "# I tried doing this by just copying and pasting the URL into ArcGIS Online and got an error\n",
    "# Which is when I realized I was not getting the correct json format"
   ]
  }
 ],
 "metadata": {
  "kernelspec": {
   "display_name": "ArcGISPro",
   "language": "Python",
   "name": "python3"
  },
  "language_info": {
   "file_extension": ".py",
   "name": "python",
   "version": "3"
  }
 },
 "nbformat": 4,
 "nbformat_minor": 2
}
